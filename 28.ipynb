{
 "cells": [
  {
   "cell_type": "markdown",
   "id": "0af6917f-eb17-403a-8e36-a72c701aff3f",
   "metadata": {},
   "source": [
    "## Glassdoor Gender Pay Gap ##"
   ]
  },
  {
   "cell_type": "markdown",
   "id": "747245d6-a751-45c1-a0d7-bec2a5e0bdfe",
   "metadata": {},
   "source": [
    "## Group Number: 28"
   ]
  },
  {
   "cell_type": "markdown",
   "id": "d80bfbc5-5c6c-4e0e-aa15-dba7a52db432",
   "metadata": {},
   "source": [
    "## Names ##"
   ]
  },
  {
   "cell_type": "markdown",
   "id": "d0ed2d41-6314-429f-8c25-72280bb50b51",
   "metadata": {},
   "source": [
    "Tahel Hermon"
   ]
  },
  {
   "cell_type": "markdown",
   "id": "28dee75e-f7b5-43d9-a007-a908c4ad5bfe",
   "metadata": {},
   "source": [
    "Noy Band"
   ]
  },
  {
   "cell_type": "markdown",
   "id": "af027390-d6ac-4e8f-ad5c-f85026ad830b",
   "metadata": {},
   "source": [
    "Shiraz Cohen"
   ]
  },
  {
   "cell_type": "markdown",
   "id": "0e41e114-95f9-43db-8c7a-290db2fe3ef7",
   "metadata": {},
   "source": [
    "Noam Yehiel"
   ]
  },
  {
   "cell_type": "markdown",
   "id": "d73a98a0-2d1a-4d1c-9027-450f9559dce3",
   "metadata": {},
   "source": [
    "## URL :'https://www.kaggle.com/datasets/nilimajauhari/glassdoor-analyze-gender-pay-gap'## "
   ]
  },
  {
   "cell_type": "code",
   "execution_count": 423,
   "id": "7594d2ab-af90-45d8-92bb-6bec6ff5e9b5",
   "metadata": {},
   "outputs": [],
   "source": [
    "import numpy as np\n",
    "import pandas as pd\n",
    "import seaborn as sns\n",
    "import matplotlib.pyplot as plt\n",
    "pd.set_option('mode.chained_assignment', None)"
   ]
  },
  {
   "cell_type": "code",
   "execution_count": 424,
   "id": "c2b8b6fd-85b5-4607-b8cf-cdbe362168db",
   "metadata": {},
   "outputs": [
    {
     "data": {
      "text/html": [
       "<div>\n",
       "<style scoped>\n",
       "    .dataframe tbody tr th:only-of-type {\n",
       "        vertical-align: middle;\n",
       "    }\n",
       "\n",
       "    .dataframe tbody tr th {\n",
       "        vertical-align: top;\n",
       "    }\n",
       "\n",
       "    .dataframe thead th {\n",
       "        text-align: right;\n",
       "    }\n",
       "</style>\n",
       "<table border=\"1\" class=\"dataframe\">\n",
       "  <thead>\n",
       "    <tr style=\"text-align: right;\">\n",
       "      <th></th>\n",
       "      <th>JobTitle</th>\n",
       "      <th>Gender</th>\n",
       "      <th>Age</th>\n",
       "      <th>PerfEval</th>\n",
       "      <th>Education</th>\n",
       "      <th>Dept</th>\n",
       "      <th>Seniority</th>\n",
       "      <th>BasePay</th>\n",
       "      <th>Bonus</th>\n",
       "    </tr>\n",
       "  </thead>\n",
       "  <tbody>\n",
       "    <tr>\n",
       "      <th>0</th>\n",
       "      <td>Graphic Designer</td>\n",
       "      <td>Female</td>\n",
       "      <td>18</td>\n",
       "      <td>5</td>\n",
       "      <td>College</td>\n",
       "      <td>Operations</td>\n",
       "      <td>2</td>\n",
       "      <td>42363</td>\n",
       "      <td>9938</td>\n",
       "    </tr>\n",
       "    <tr>\n",
       "      <th>1</th>\n",
       "      <td>Software Engineer</td>\n",
       "      <td>Male</td>\n",
       "      <td>21</td>\n",
       "      <td>5</td>\n",
       "      <td>College</td>\n",
       "      <td>Management</td>\n",
       "      <td>5</td>\n",
       "      <td>108476</td>\n",
       "      <td>11128</td>\n",
       "    </tr>\n",
       "    <tr>\n",
       "      <th>2</th>\n",
       "      <td>Warehouse Associate</td>\n",
       "      <td>Female</td>\n",
       "      <td>19</td>\n",
       "      <td>4</td>\n",
       "      <td>PhD</td>\n",
       "      <td>Administration</td>\n",
       "      <td>5</td>\n",
       "      <td>90208</td>\n",
       "      <td>9268</td>\n",
       "    </tr>\n",
       "    <tr>\n",
       "      <th>3</th>\n",
       "      <td>Software Engineer</td>\n",
       "      <td>Male</td>\n",
       "      <td>20</td>\n",
       "      <td>5</td>\n",
       "      <td>Masters</td>\n",
       "      <td>Sales</td>\n",
       "      <td>4</td>\n",
       "      <td>108080</td>\n",
       "      <td>10154</td>\n",
       "    </tr>\n",
       "    <tr>\n",
       "      <th>4</th>\n",
       "      <td>Graphic Designer</td>\n",
       "      <td>Male</td>\n",
       "      <td>26</td>\n",
       "      <td>5</td>\n",
       "      <td>Masters</td>\n",
       "      <td>Engineering</td>\n",
       "      <td>5</td>\n",
       "      <td>99464</td>\n",
       "      <td>9319</td>\n",
       "    </tr>\n",
       "  </tbody>\n",
       "</table>\n",
       "</div>"
      ],
      "text/plain": [
       "              JobTitle  Gender  Age  PerfEval Education            Dept  \\\n",
       "0     Graphic Designer  Female   18         5   College      Operations   \n",
       "1    Software Engineer    Male   21         5   College      Management   \n",
       "2  Warehouse Associate  Female   19         4       PhD  Administration   \n",
       "3    Software Engineer    Male   20         5   Masters           Sales   \n",
       "4     Graphic Designer    Male   26         5   Masters     Engineering   \n",
       "\n",
       "   Seniority  BasePay  Bonus  \n",
       "0          2    42363   9938  \n",
       "1          5   108476  11128  \n",
       "2          5    90208   9268  \n",
       "3          4   108080  10154  \n",
       "4          5    99464   9319  "
      ]
     },
     "execution_count": 424,
     "metadata": {},
     "output_type": "execute_result"
    }
   ],
   "source": [
    "url='https://github.com/tahellll/womenVSmen/raw/main/Glassdoor%20Gender%20Pay%20Gap.csv'\n",
    "pro_df=pd.read_csv(url)\n",
    "pro_df=pro_df.copy()\n",
    "pro_df.head()"
   ]
  },
  {
   "cell_type": "code",
   "execution_count": 425,
   "id": "19ebe072-b75e-4a45-a999-72398ea5a318",
   "metadata": {},
   "outputs": [
    {
     "data": {
      "text/plain": [
       "JobTitle     0\n",
       "Gender       0\n",
       "Age          0\n",
       "PerfEval     0\n",
       "Education    0\n",
       "Dept         0\n",
       "Seniority    0\n",
       "BasePay      0\n",
       "Bonus        0\n",
       "dtype: int64"
      ]
     },
     "execution_count": 425,
     "metadata": {},
     "output_type": "execute_result"
    }
   ],
   "source": [
    "pro_df.isnull().sum().sort_values()\n"
   ]
  },
  {
   "cell_type": "code",
   "execution_count": 426,
   "id": "9d5b7b0a-9124-4b9a-8f80-290a38c3aa88",
   "metadata": {},
   "outputs": [
    {
     "data": {
      "text/plain": [
       "[Text(0.5, 1.0, 'Women VS Man BasePay')]"
      ]
     },
     "execution_count": 426,
     "metadata": {},
     "output_type": "execute_result"
    },
    {
     "data": {
      "image/png": "[encoded data removed]",
      "text/plain": [
       "<Figure size 432x288 with 1 Axes>"
      ]
     },
     "metadata": {
      "needs_background": "light"
     },
     "output_type": "display_data"
    }
   ],
   "source": [
    "sns.histplot(data=pro_df, x='BasePay', stat='percent', hue='Gender', multiple = 'layer').set(title='Women VS Man BasePay')"
   ]
  },
  {
   "cell_type": "markdown",
   "id": "3c3f1275-a50f-4c56-ad9a-093b70cc185b",
   "metadata": {},
   "source": [
    "we checked if there is a missing values on the data.\n",
    "by the form chart, we can inform that there is no missing values."
   ]
  },
  {
   "cell_type": "markdown",
   "id": "8fea9cc4-0f1a-4c24-9246-cdaa1f4aa6a1",
   "metadata": {},
   "source": [
    "By the chart above, we can infer that women basepay is lower than men.\n",
    "we wanted to see the distribution of the basepay of every gander, to see the actual number differnce."
   ]
  },
  {
   "cell_type": "code",
   "execution_count": 427,
   "id": "e0702972-a40e-459f-8c90-01691d8ec3a4",
   "metadata": {},
   "outputs": [
    {
     "data": {
      "text/html": [
       "<div>\n",
       "<style scoped>\n",
       "    .dataframe tbody tr th:only-of-type {\n",
       "        vertical-align: middle;\n",
       "    }\n",
       "\n",
       "    .dataframe tbody tr th {\n",
       "        vertical-align: top;\n",
       "    }\n",
       "\n",
       "    .dataframe thead th {\n",
       "        text-align: right;\n",
       "    }\n",
       "</style>\n",
       "<table border=\"1\" class=\"dataframe\">\n",
       "  <thead>\n",
       "    <tr style=\"text-align: right;\">\n",
       "      <th>Gender</th>\n",
       "      <th>Female</th>\n",
       "      <th>Male</th>\n",
       "    </tr>\n",
       "    <tr>\n",
       "      <th>JobTitle</th>\n",
       "      <th></th>\n",
       "      <th></th>\n",
       "    </tr>\n",
       "  </thead>\n",
       "  <tbody>\n",
       "    <tr>\n",
       "      <th>Data Scientist</th>\n",
       "      <td>95704.792453</td>\n",
       "      <td>89222.629630</td>\n",
       "    </tr>\n",
       "    <tr>\n",
       "      <th>Driver</th>\n",
       "      <td>86867.630435</td>\n",
       "      <td>91952.666667</td>\n",
       "    </tr>\n",
       "    <tr>\n",
       "      <th>Financial Analyst</th>\n",
       "      <td>95458.326531</td>\n",
       "      <td>94607.034483</td>\n",
       "    </tr>\n",
       "    <tr>\n",
       "      <th>Graphic Designer</th>\n",
       "      <td>92243.291667</td>\n",
       "      <td>89595.800000</td>\n",
       "    </tr>\n",
       "    <tr>\n",
       "      <th>IT</th>\n",
       "      <td>90475.720000</td>\n",
       "      <td>91021.978261</td>\n",
       "    </tr>\n",
       "    <tr>\n",
       "      <th>Manager</th>\n",
       "      <td>127252.277778</td>\n",
       "      <td>124848.930556</td>\n",
       "    </tr>\n",
       "    <tr>\n",
       "      <th>Marketing Associate</th>\n",
       "      <td>76119.177570</td>\n",
       "      <td>81881.818182</td>\n",
       "    </tr>\n",
       "    <tr>\n",
       "      <th>Sales Associate</th>\n",
       "      <td>91894.209302</td>\n",
       "      <td>94663.117647</td>\n",
       "    </tr>\n",
       "    <tr>\n",
       "      <th>Software Engineer</th>\n",
       "      <td>94701.000000</td>\n",
       "      <td>106371.485149</td>\n",
       "    </tr>\n",
       "    <tr>\n",
       "      <th>Warehouse Associate</th>\n",
       "      <td>92428.260870</td>\n",
       "      <td>86553.431818</td>\n",
       "    </tr>\n",
       "  </tbody>\n",
       "</table>\n",
       "</div>"
      ],
      "text/plain": [
       "Gender                      Female           Male\n",
       "JobTitle                                         \n",
       "Data Scientist        95704.792453   89222.629630\n",
       "Driver                86867.630435   91952.666667\n",
       "Financial Analyst     95458.326531   94607.034483\n",
       "Graphic Designer      92243.291667   89595.800000\n",
       "IT                    90475.720000   91021.978261\n",
       "Manager              127252.277778  124848.930556\n",
       "Marketing Associate   76119.177570   81881.818182\n",
       "Sales Associate       91894.209302   94663.117647\n",
       "Software Engineer     94701.000000  106371.485149\n",
       "Warehouse Associate   92428.260870   86553.431818"
      ]
     },
     "execution_count": 427,
     "metadata": {},
     "output_type": "execute_result"
    }
   ],
   "source": [
    "meanBasePay=pro_df.pivot_table('BasePay', index='JobTitle', columns='Gender')\n",
    "meanBasePay"
   ]
  },
  {
   "cell_type": "code",
   "execution_count": 428,
   "id": "999ae87c-0e5e-4670-8d80-c6bf21a8efa0",
   "metadata": {},
   "outputs": [
    {
     "data": {
      "text/html": [
       "<div>\n",
       "<style scoped>\n",
       "    .dataframe tbody tr th:only-of-type {\n",
       "        vertical-align: middle;\n",
       "    }\n",
       "\n",
       "    .dataframe tbody tr th {\n",
       "        vertical-align: top;\n",
       "    }\n",
       "\n",
       "    .dataframe thead th {\n",
       "        text-align: right;\n",
       "    }\n",
       "</style>\n",
       "<table border=\"1\" class=\"dataframe\">\n",
       "  <thead>\n",
       "    <tr style=\"text-align: right;\">\n",
       "      <th>Gender</th>\n",
       "      <th>Female</th>\n",
       "      <th>Male</th>\n",
       "    </tr>\n",
       "    <tr>\n",
       "      <th>Seniority</th>\n",
       "      <th></th>\n",
       "      <th></th>\n",
       "    </tr>\n",
       "  </thead>\n",
       "  <tbody>\n",
       "    <tr>\n",
       "      <th>1</th>\n",
       "      <td>70122.285714</td>\n",
       "      <td>81975.227273</td>\n",
       "    </tr>\n",
       "    <tr>\n",
       "      <th>2</th>\n",
       "      <td>92516.588235</td>\n",
       "      <td>92272.954545</td>\n",
       "    </tr>\n",
       "    <tr>\n",
       "      <th>3</th>\n",
       "      <td>88331.681818</td>\n",
       "      <td>98628.000000</td>\n",
       "    </tr>\n",
       "    <tr>\n",
       "      <th>4</th>\n",
       "      <td>102224.450000</td>\n",
       "      <td>108687.333333</td>\n",
       "    </tr>\n",
       "    <tr>\n",
       "      <th>5</th>\n",
       "      <td>108628.142857</td>\n",
       "      <td>119624.550000</td>\n",
       "    </tr>\n",
       "  </tbody>\n",
       "</table>\n",
       "</div>"
      ],
      "text/plain": [
       "Gender            Female           Male\n",
       "Seniority                              \n",
       "1           70122.285714   81975.227273\n",
       "2           92516.588235   92272.954545\n",
       "3           88331.681818   98628.000000\n",
       "4          102224.450000  108687.333333\n",
       "5          108628.142857  119624.550000"
      ]
     },
     "execution_count": 428,
     "metadata": {},
     "output_type": "execute_result"
    }
   ],
   "source": [
    "project_managment = pro_df.loc[(pro_df.Dept == 'Management')]\n",
    "table_pro = project_managment.groupby(['Seniority', 'Gender'])['BasePay' ].aggregate('mean').unstack()\n",
    "table_pro"
   ]
  },
  {
   "cell_type": "code",
   "execution_count": 429,
   "id": "953ed08d-ef17-49a9-816e-208d826c1a37",
   "metadata": {},
   "outputs": [
    {
     "data": {
      "image/png": "[encoded data removed]",
      "text/plain": [
       "<Figure size 432x288 with 1 Axes>"
      ]
     },
     "metadata": {
      "needs_background": "light"
     },
     "output_type": "display_data"
    }
   ],
   "source": [
    "grouped_pro = project_managment.groupby(['Seniority','Gender'])['BasePay'].aggregate('mean').reset_index()\n",
    "sns.barplot(data = grouped_pro, x= \"Seniority\" , y = \"BasePay\" , hue = \"Gender\", palette=\"BuPu\").set(title = \"Base salary of women and men in relation to seniority\")\n",
    "plt.show()"
   ]
  },
  {
   "cell_type": "markdown",
   "id": "9bcdbe2d-4055-455e-b8c2-e115e4e32a98",
   "metadata": {},
   "source": [
    "By the following illustrations we can infer that the CEO and the main managment of the company prefer to employ mens as their company managers.\n",
    "we saw that in both charts theres a different between the salary of both gender."
   ]
  },
  {
   "cell_type": "code",
   "execution_count": 430,
   "id": "665d94c1-c567-47ce-8c82-50faa532de75",
   "metadata": {},
   "outputs": [
    {
     "data": {
      "text/plain": [
       "<AxesSubplot:>"
      ]
     },
     "execution_count": 430,
     "metadata": {},
     "output_type": "execute_result"
    },
    {
     "data": {
      "image/png": "[encoded data removed]",
      "text/plain": [
       "<Figure size 432x288 with 2 Axes>"
      ]
     },
     "metadata": {
      "needs_background": "light"
     },
     "output_type": "display_data"
    }
   ],
   "source": [
    "columns = ['Age', 'Bonus','Seniority','PerfEval','BasePay']\n",
    "correlation_matrix = pro_df[columns].corr(method='pearson').round(2)\n",
    "sns.heatmap(data=correlation_matrix,cmap='pink', annot=True)"
   ]
  },
  {
   "cell_type": "markdown",
   "id": "30bda702-f45d-4cac-929b-d04d32db0624",
   "metadata": {},
   "source": [
    "we can conclude that there is not strong correlation between the columns of our data.\n",
    "The only connection that is obvious and strong is between PerfEval and Bonus."
   ]
  },
  {
   "cell_type": "code",
   "execution_count": 431,
   "id": "99ba025c-d109-41a6-a16a-8ca7252600d0",
   "metadata": {},
   "outputs": [
    {
     "data": {
      "text/html": [
       "<div>\n",
       "<style scoped>\n",
       "    .dataframe tbody tr th:only-of-type {\n",
       "        vertical-align: middle;\n",
       "    }\n",
       "\n",
       "    .dataframe tbody tr th {\n",
       "        vertical-align: top;\n",
       "    }\n",
       "\n",
       "    .dataframe thead th {\n",
       "        text-align: right;\n",
       "    }\n",
       "</style>\n",
       "<table border=\"1\" class=\"dataframe\">\n",
       "  <thead>\n",
       "    <tr style=\"text-align: right;\">\n",
       "      <th></th>\n",
       "      <th>Education</th>\n",
       "      <th>BasePay</th>\n",
       "    </tr>\n",
       "  </thead>\n",
       "  <tbody>\n",
       "    <tr>\n",
       "      <th>0</th>\n",
       "      <td>College</td>\n",
       "      <td>92126.597510</td>\n",
       "    </tr>\n",
       "    <tr>\n",
       "      <th>1</th>\n",
       "      <td>High School</td>\n",
       "      <td>88732.298113</td>\n",
       "    </tr>\n",
       "    <tr>\n",
       "      <th>2</th>\n",
       "      <td>Masters</td>\n",
       "      <td>97595.542969</td>\n",
       "    </tr>\n",
       "    <tr>\n",
       "      <th>3</th>\n",
       "      <td>PhD</td>\n",
       "      <td>99880.777311</td>\n",
       "    </tr>\n",
       "  </tbody>\n",
       "</table>\n",
       "</div>"
      ],
      "text/plain": [
       "     Education       BasePay\n",
       "0      College  92126.597510\n",
       "1  High School  88732.298113\n",
       "2      Masters  97595.542969\n",
       "3          PhD  99880.777311"
      ]
     },
     "execution_count": 431,
     "metadata": {},
     "output_type": "execute_result"
    }
   ],
   "source": [
    "edu_bp=pro_df.groupby(['Education'])['BasePay'].aggregate('mean').reset_index()\n",
    "edu_bp"
   ]
  },
  {
   "cell_type": "code",
   "execution_count": 432,
   "id": "94907140-f959-4d08-affe-43f53ee7c468",
   "metadata": {
    "tags": []
   },
   "outputs": [
    {
     "data": {
      "image/png": "[encoded data removed]",
      "text/plain": [
       "<Figure size 720x504 with 1 Axes>"
      ]
     },
     "metadata": {},
     "output_type": "display_data"
    }
   ],
   "source": [
    "fig=plt.figure(figsize=(10,7))\n",
    "colorsplt=['#4F6272','#DD7596','#B7C3F3','#8EB897']\n",
    "plt.pie(edu_bp['BasePay'],labels=edu_bp['Education'],autopct=\"%1.1f%%\",shadow=True,wedgeprops={'linewidth':1,'edgecolor':'white'},colors=colorsplt)\n",
    "plt.show()"
   ]
  },
  {
   "cell_type": "markdown",
   "id": "effa1bcd-f943-4b89-a585-908eb3661b15",
   "metadata": {},
   "source": [
    "The chance to succeed in life is not always dependent on your education, you can go onward by your own skills."
   ]
  },
  {
   "cell_type": "code",
   "execution_count": 433,
   "id": "a2b38a67-d7b4-4da2-8c75-f8d1155f4c74",
   "metadata": {},
   "outputs": [
    {
     "data": {
      "text/html": [
       "<div>\n",
       "<style scoped>\n",
       "    .dataframe tbody tr th:only-of-type {\n",
       "        vertical-align: middle;\n",
       "    }\n",
       "\n",
       "    .dataframe tbody tr th {\n",
       "        vertical-align: top;\n",
       "    }\n",
       "\n",
       "    .dataframe thead th {\n",
       "        text-align: right;\n",
       "    }\n",
       "</style>\n",
       "<table border=\"1\" class=\"dataframe\">\n",
       "  <thead>\n",
       "    <tr style=\"text-align: right;\">\n",
       "      <th></th>\n",
       "      <th>JobTitle</th>\n",
       "      <th>Gender</th>\n",
       "      <th>Age</th>\n",
       "      <th>PerfEval</th>\n",
       "      <th>Education</th>\n",
       "      <th>Dept</th>\n",
       "      <th>Seniority</th>\n",
       "      <th>BasePay</th>\n",
       "      <th>Bonus</th>\n",
       "      <th>Age Group</th>\n",
       "    </tr>\n",
       "  </thead>\n",
       "  <tbody>\n",
       "    <tr>\n",
       "      <th>0</th>\n",
       "      <td>Graphic Designer</td>\n",
       "      <td>Female</td>\n",
       "      <td>18</td>\n",
       "      <td>5</td>\n",
       "      <td>College</td>\n",
       "      <td>Operations</td>\n",
       "      <td>2</td>\n",
       "      <td>42363</td>\n",
       "      <td>9938</td>\n",
       "      <td>young</td>\n",
       "    </tr>\n",
       "    <tr>\n",
       "      <th>1</th>\n",
       "      <td>Software Engineer</td>\n",
       "      <td>Male</td>\n",
       "      <td>21</td>\n",
       "      <td>5</td>\n",
       "      <td>College</td>\n",
       "      <td>Management</td>\n",
       "      <td>5</td>\n",
       "      <td>108476</td>\n",
       "      <td>11128</td>\n",
       "      <td>young</td>\n",
       "    </tr>\n",
       "    <tr>\n",
       "      <th>2</th>\n",
       "      <td>Warehouse Associate</td>\n",
       "      <td>Female</td>\n",
       "      <td>19</td>\n",
       "      <td>4</td>\n",
       "      <td>PhD</td>\n",
       "      <td>Administration</td>\n",
       "      <td>5</td>\n",
       "      <td>90208</td>\n",
       "      <td>9268</td>\n",
       "      <td>young</td>\n",
       "    </tr>\n",
       "    <tr>\n",
       "      <th>3</th>\n",
       "      <td>Software Engineer</td>\n",
       "      <td>Male</td>\n",
       "      <td>20</td>\n",
       "      <td>5</td>\n",
       "      <td>Masters</td>\n",
       "      <td>Sales</td>\n",
       "      <td>4</td>\n",
       "      <td>108080</td>\n",
       "      <td>10154</td>\n",
       "      <td>young</td>\n",
       "    </tr>\n",
       "    <tr>\n",
       "      <th>4</th>\n",
       "      <td>Graphic Designer</td>\n",
       "      <td>Male</td>\n",
       "      <td>26</td>\n",
       "      <td>5</td>\n",
       "      <td>Masters</td>\n",
       "      <td>Engineering</td>\n",
       "      <td>5</td>\n",
       "      <td>99464</td>\n",
       "      <td>9319</td>\n",
       "      <td>young</td>\n",
       "    </tr>\n",
       "    <tr>\n",
       "      <th>...</th>\n",
       "      <td>...</td>\n",
       "      <td>...</td>\n",
       "      <td>...</td>\n",
       "      <td>...</td>\n",
       "      <td>...</td>\n",
       "      <td>...</td>\n",
       "      <td>...</td>\n",
       "      <td>...</td>\n",
       "      <td>...</td>\n",
       "      <td>...</td>\n",
       "    </tr>\n",
       "    <tr>\n",
       "      <th>995</th>\n",
       "      <td>Marketing Associate</td>\n",
       "      <td>Female</td>\n",
       "      <td>61</td>\n",
       "      <td>1</td>\n",
       "      <td>High School</td>\n",
       "      <td>Administration</td>\n",
       "      <td>1</td>\n",
       "      <td>62644</td>\n",
       "      <td>3270</td>\n",
       "      <td>elderly</td>\n",
       "    </tr>\n",
       "    <tr>\n",
       "      <th>996</th>\n",
       "      <td>Data Scientist</td>\n",
       "      <td>Male</td>\n",
       "      <td>57</td>\n",
       "      <td>1</td>\n",
       "      <td>Masters</td>\n",
       "      <td>Sales</td>\n",
       "      <td>2</td>\n",
       "      <td>108977</td>\n",
       "      <td>3567</td>\n",
       "      <td>elderly</td>\n",
       "    </tr>\n",
       "    <tr>\n",
       "      <th>997</th>\n",
       "      <td>Financial Analyst</td>\n",
       "      <td>Male</td>\n",
       "      <td>48</td>\n",
       "      <td>1</td>\n",
       "      <td>High School</td>\n",
       "      <td>Operations</td>\n",
       "      <td>1</td>\n",
       "      <td>92347</td>\n",
       "      <td>2724</td>\n",
       "      <td>elderly</td>\n",
       "    </tr>\n",
       "    <tr>\n",
       "      <th>998</th>\n",
       "      <td>Financial Analyst</td>\n",
       "      <td>Male</td>\n",
       "      <td>65</td>\n",
       "      <td>2</td>\n",
       "      <td>High School</td>\n",
       "      <td>Administration</td>\n",
       "      <td>1</td>\n",
       "      <td>97376</td>\n",
       "      <td>2225</td>\n",
       "      <td>elderly</td>\n",
       "    </tr>\n",
       "    <tr>\n",
       "      <th>999</th>\n",
       "      <td>Financial Analyst</td>\n",
       "      <td>Male</td>\n",
       "      <td>60</td>\n",
       "      <td>1</td>\n",
       "      <td>PhD</td>\n",
       "      <td>Sales</td>\n",
       "      <td>2</td>\n",
       "      <td>123108</td>\n",
       "      <td>2244</td>\n",
       "      <td>elderly</td>\n",
       "    </tr>\n",
       "  </tbody>\n",
       "</table>\n",
       "<p>1000 rows × 10 columns</p>\n",
       "</div>"
      ],
      "text/plain": [
       "                JobTitle  Gender  Age  PerfEval    Education            Dept  \\\n",
       "0       Graphic Designer  Female   18         5      College      Operations   \n",
       "1      Software Engineer    Male   21         5      College      Management   \n",
       "2    Warehouse Associate  Female   19         4          PhD  Administration   \n",
       "3      Software Engineer    Male   20         5      Masters           Sales   \n",
       "4       Graphic Designer    Male   26         5      Masters     Engineering   \n",
       "..                   ...     ...  ...       ...          ...             ...   \n",
       "995  Marketing Associate  Female   61         1  High School  Administration   \n",
       "996       Data Scientist    Male   57         1      Masters           Sales   \n",
       "997    Financial Analyst    Male   48         1  High School      Operations   \n",
       "998    Financial Analyst    Male   65         2  High School  Administration   \n",
       "999    Financial Analyst    Male   60         1          PhD           Sales   \n",
       "\n",
       "     Seniority  BasePay  Bonus Age Group  \n",
       "0            2    42363   9938     young  \n",
       "1            5   108476  11128     young  \n",
       "2            5    90208   9268     young  \n",
       "3            4   108080  10154     young  \n",
       "4            5    99464   9319     young  \n",
       "..         ...      ...    ...       ...  \n",
       "995          1    62644   3270   elderly  \n",
       "996          2   108977   3567   elderly  \n",
       "997          1    92347   2724   elderly  \n",
       "998          1    97376   2225   elderly  \n",
       "999          2   123108   2244   elderly  \n",
       "\n",
       "[1000 rows x 10 columns]"
      ]
     },
     "execution_count": 433,
     "metadata": {},
     "output_type": "execute_result"
    }
   ],
   "source": [
    "copy_df=pro_df.copy()\n",
    "copy_df['Age Group'] = ''\n",
    "for i in range(0,1000):\n",
    "    if copy_df['Age'][i]<30:\n",
    "        copy_df['Age Group'][i]=\"young\"\n",
    "    elif copy_df['Age'][i]>45:\n",
    "        copy_df['Age Group'][i]=\"elderly\"\n",
    "    else:\n",
    "        copy_df['Age Group'][i]=\"middle age\"\n",
    "copy_df"
   ]
  },
  {
   "cell_type": "code",
   "execution_count": 434,
   "id": "9c877573-ad7e-4dbb-9d08-533a8bec6888",
   "metadata": {},
   "outputs": [
    {
     "data": {
      "image/png": "[encoded data removed]",
      "text/plain": [
       "<Figure size 432x288 with 1 Axes>"
      ]
     },
     "metadata": {
      "needs_background": "light"
     },
     "output_type": "display_data"
    }
   ],
   "source": [
    "sns.countplot(x=\"Age Group\", data=copy_df,palette='cool')\n",
    "plt.show()"
   ]
  },
  {
   "cell_type": "code",
   "execution_count": 435,
   "id": "8e40b1c6-8389-4be7-aace-dea981e5fcc6",
   "metadata": {},
   "outputs": [
    {
     "data": {
      "text/plain": [
       "<AxesSubplot:xlabel='Age Group', ylabel='Bonus'>"
      ]
     },
     "execution_count": 435,
     "metadata": {},
     "output_type": "execute_result"
    },
    {
     "data": {
      "image/png": "[encoded data removed]",
      "text/plain": [
       "<Figure size 432x288 with 1 Axes>"
      ]
     },
     "metadata": {
      "needs_background": "light"
     },
     "output_type": "display_data"
    }
   ],
   "source": [
    "sns.stripplot(x=\"Age Group\", y=\"Bonus\", data=copy_df, jitter=0.1,palette='winter')"
   ]
  },
  {
   "cell_type": "markdown",
   "id": "6faaeed1-434c-4f7b-946a-4e26fdcaeb26",
   "metadata": {},
   "source": [
    "we wanted to know which age group is more determind at work.\n",
    "by the following illustration we can infer that the \"young\" group get motivated and work hard to get the bonuses.\n",
    "In addition, we saw that the company has an interest to keep and preserve the young ones, so they could reap the benefits."
   ]
  }
 ],
 "metadata": {
  "kernelspec": {
   "display_name": "Python 3 (ipykernel)",
   "language": "python",
   "name": "python3"
  },
  "language_info": {
   "codemirror_mode": {
    "name": "ipython",
    "version": 3
   },
   "file_extension": ".py",
   "mimetype": "text/x-python",
   "name": "python",
   "nbconvert_exporter": "python",
   "pygments_lexer": "ipython3",
   "version": "3.9.7"
  }
 },
 "nbformat": 4,
 "nbformat_minor": 5
}
